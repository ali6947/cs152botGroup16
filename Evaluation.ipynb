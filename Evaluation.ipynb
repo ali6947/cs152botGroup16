{
  "nbformat": 4,
  "nbformat_minor": 0,
  "metadata": {
    "colab": {
      "provenance": []
    },
    "kernelspec": {
      "name": "python3",
      "display_name": "Python 3"
    },
    "language_info": {
      "name": "python"
    }
  },
  "cells": [
    {
      "cell_type": "code",
      "source": [
        "!pip install demoji"
      ],
      "metadata": {
        "colab": {
          "base_uri": "https://localhost:8080/"
        },
        "id": "wwKPNCUkn7EB",
        "outputId": "9a432914-d93e-4761-a6bc-87cba5528cb0"
      },
      "execution_count": 2,
      "outputs": [
        {
          "output_type": "stream",
          "name": "stdout",
          "text": [
            "Looking in indexes: https://pypi.org/simple, https://us-python.pkg.dev/colab-wheels/public/simple/\n",
            "Collecting demoji\n",
            "  Downloading demoji-1.1.0-py3-none-any.whl (42 kB)\n",
            "\u001b[?25l     \u001b[90m━━━━━━━━━━━━━━━━━━━━━━━━━━━━━━━━━━━━━━━━\u001b[0m \u001b[32m0.0/42.9 kB\u001b[0m \u001b[31m?\u001b[0m eta \u001b[36m-:--:--\u001b[0m\r\u001b[2K     \u001b[90m━━━━━━━━━━━━━━━━━━━━━━━━━━━━━━━━━━━━━━━━\u001b[0m \u001b[32m42.9/42.9 kB\u001b[0m \u001b[31m2.7 MB/s\u001b[0m eta \u001b[36m0:00:00\u001b[0m\n",
            "\u001b[?25hInstalling collected packages: demoji\n",
            "Successfully installed demoji-1.1.0\n"
          ]
        }
      ]
    },
    {
      "cell_type": "code",
      "execution_count": 3,
      "metadata": {
        "colab": {
          "base_uri": "https://localhost:8080/"
        },
        "id": "hRADuDhJnR3g",
        "outputId": "d5842d16-d624-4a59-e965-82d93ebefdcf"
      },
      "outputs": [
        {
          "output_type": "stream",
          "name": "stdout",
          "text": [
            "Mounted at /content/drive\n"
          ]
        }
      ],
      "source": [
        "# This mounts your Google Drive to the Colab VM.\n",
        "from google.colab import drive\n",
        "drive.mount('/content/drive')\n",
        "import numpy as np\n",
        "import pandas as pd\n",
        "import matplotlib.pyplot as plt\n",
        "import seaborn as sns\n",
        "import plotly.express as px\n",
        "import numpy as np\n",
        "import pandas as pd\n",
        "import matplotlib.pyplot as plt\n",
        "import seaborn as sns\n",
        "import plotly.express as px\n",
        "import re\n",
        "import demoji\n",
        "import string\n",
        "from sklearn.model_selection import train_test_split\n",
        "from sklearn.feature_extraction.text import TfidfVectorizer\n",
        "from sklearn.linear_model import LogisticRegression\n",
        "from sklearn.metrics import ConfusionMatrixDisplay, classification_report, confusion_matrix\n",
        "from sklearn.feature_extraction.text import CountVectorizer \n",
        "from sklearn.feature_extraction.text import TfidfTransformer\n",
        "from sklearn.pipeline import Pipeline\n",
        "from sklearn.pipeline import Pipeline\n",
        "import pickle"
      ]
    },
    {
      "cell_type": "code",
      "source": [
        "with open('drive/Shareddrives/CS 152/Classifier/LRmodel_pipe_cyberbullying.pkl','rb') as f:\n",
        "  pipe_model=pickle.load(f)"
      ],
      "metadata": {
        "id": "akGPzleVnkSx"
      },
      "execution_count": 4,
      "outputs": []
    },
    {
      "cell_type": "code",
      "source": [
        "def evaluate(text, pipe_model):\n",
        "  if type(text)==str:\n",
        "    text=[text]\n",
        "  output = pipe_model.predict(text)\n",
        "  return output\n"
      ],
      "metadata": {
        "id": "dTTz0lXWoAJ1"
      },
      "execution_count": 5,
      "outputs": []
    },
    {
      "cell_type": "markdown",
      "source": [
        "Function to clean tweets of junk characters."
      ],
      "metadata": {
        "id": "_lk3YxitLhZn"
      }
    },
    {
      "cell_type": "code",
      "source": [
        "def clean_text(text):\n",
        "    \n",
        "    # Remove Hashtag, Mention, URLs\n",
        "    pattern = re.compile(r\"(#[A-Za-z0-9]+|@[A-Za-z0-9]+|https?://\\S+|www\\.\\S+|\\S+\\.[a-z]+|RT @)\")\n",
        "    text = pattern.sub('', text)\n",
        "    text = \" \".join(text.split())\n",
        "    \n",
        "    # Make all text lowercase\n",
        "    text = text.lower()\n",
        "    \n",
        "    # Removing Punctuations\n",
        "    remove_punc = re.compile(r\"[%s]\" % re.escape(string.punctuation))\n",
        "    text = remove_punc.sub('', text)\n",
        "\n",
        "    # Taking care of emojis\n",
        "    emoji = demoji.findall(text)\n",
        "    for emot in emoji:\n",
        "        text = re.sub(r\"(%s)\" % (emot), \"_\".join(emoji[emot].split()), text)\n",
        "\n",
        "    return text"
      ],
      "metadata": {
        "id": "x3epgnoXu5h5"
      },
      "execution_count": 6,
      "outputs": []
    },
    {
      "cell_type": "code",
      "source": [
        "df = pd.read_csv('cyberbullying_dataset.csv', encoding='utf-8', error_bad_lines=False)\n",
        "\n",
        "df"
      ],
      "metadata": {
        "colab": {
          "base_uri": "https://localhost:8080/",
          "height": 493
        },
        "id": "ZBig3CpEp35k",
        "outputId": "654ca160-f77d-4975-bfb0-3b60b752d27e"
      },
      "execution_count": 8,
      "outputs": [
        {
          "output_type": "stream",
          "name": "stderr",
          "text": [
            "<ipython-input-8-81664a0ec050>:1: FutureWarning: The error_bad_lines argument has been deprecated and will be removed in a future version. Use on_bad_lines in the future.\n",
            "\n",
            "\n",
            "  df = pd.read_csv('cyberbullying_dataset.csv', encoding='utf-8', error_bad_lines=False)\n"
          ]
        },
        {
          "output_type": "execute_result",
          "data": {
            "text/plain": [
              "                                              tweet_text cyberbullying_type\n",
              "0      Worm is about a bullied girl in High School wh...                age\n",
              "1      Did they though? How many kids killing themsel...                age\n",
              "2      The Congressmen's & Senator's daughters that I...                age\n",
              "3      Well it's probably mostly bts. I heard a girl ...                age\n",
              "4      It's almost like that whole school of argument...                age\n",
              "...                                                  ...                ...\n",
              "47687  A false profit that says the right things. But...           religion\n",
              "47688  Thats a fair question. I think the Iran deal i...           religion\n",
              "47689  Arguing with idiot is wasting time What about ...           religion\n",
              "47690  @ummayman90 As a percentage there are very few...           religion\n",
              "47691  Shutup you idiot. Victim blaming. Acting as if...           religion\n",
              "\n",
              "[47692 rows x 2 columns]"
            ],
            "text/html": [
              "\n",
              "  <div id=\"df-6c71416a-5ce5-42f0-8c83-7975746f2169\">\n",
              "    <div class=\"colab-df-container\">\n",
              "      <div>\n",
              "<style scoped>\n",
              "    .dataframe tbody tr th:only-of-type {\n",
              "        vertical-align: middle;\n",
              "    }\n",
              "\n",
              "    .dataframe tbody tr th {\n",
              "        vertical-align: top;\n",
              "    }\n",
              "\n",
              "    .dataframe thead th {\n",
              "        text-align: right;\n",
              "    }\n",
              "</style>\n",
              "<table border=\"1\" class=\"dataframe\">\n",
              "  <thead>\n",
              "    <tr style=\"text-align: right;\">\n",
              "      <th></th>\n",
              "      <th>tweet_text</th>\n",
              "      <th>cyberbullying_type</th>\n",
              "    </tr>\n",
              "  </thead>\n",
              "  <tbody>\n",
              "    <tr>\n",
              "      <th>0</th>\n",
              "      <td>Worm is about a bullied girl in High School wh...</td>\n",
              "      <td>age</td>\n",
              "    </tr>\n",
              "    <tr>\n",
              "      <th>1</th>\n",
              "      <td>Did they though? How many kids killing themsel...</td>\n",
              "      <td>age</td>\n",
              "    </tr>\n",
              "    <tr>\n",
              "      <th>2</th>\n",
              "      <td>The Congressmen's &amp; Senator's daughters that I...</td>\n",
              "      <td>age</td>\n",
              "    </tr>\n",
              "    <tr>\n",
              "      <th>3</th>\n",
              "      <td>Well it's probably mostly bts. I heard a girl ...</td>\n",
              "      <td>age</td>\n",
              "    </tr>\n",
              "    <tr>\n",
              "      <th>4</th>\n",
              "      <td>It's almost like that whole school of argument...</td>\n",
              "      <td>age</td>\n",
              "    </tr>\n",
              "    <tr>\n",
              "      <th>...</th>\n",
              "      <td>...</td>\n",
              "      <td>...</td>\n",
              "    </tr>\n",
              "    <tr>\n",
              "      <th>47687</th>\n",
              "      <td>A false profit that says the right things. But...</td>\n",
              "      <td>religion</td>\n",
              "    </tr>\n",
              "    <tr>\n",
              "      <th>47688</th>\n",
              "      <td>Thats a fair question. I think the Iran deal i...</td>\n",
              "      <td>religion</td>\n",
              "    </tr>\n",
              "    <tr>\n",
              "      <th>47689</th>\n",
              "      <td>Arguing with idiot is wasting time What about ...</td>\n",
              "      <td>religion</td>\n",
              "    </tr>\n",
              "    <tr>\n",
              "      <th>47690</th>\n",
              "      <td>@ummayman90 As a percentage there are very few...</td>\n",
              "      <td>religion</td>\n",
              "    </tr>\n",
              "    <tr>\n",
              "      <th>47691</th>\n",
              "      <td>Shutup you idiot. Victim blaming. Acting as if...</td>\n",
              "      <td>religion</td>\n",
              "    </tr>\n",
              "  </tbody>\n",
              "</table>\n",
              "<p>47692 rows × 2 columns</p>\n",
              "</div>\n",
              "      <button class=\"colab-df-convert\" onclick=\"convertToInteractive('df-6c71416a-5ce5-42f0-8c83-7975746f2169')\"\n",
              "              title=\"Convert this dataframe to an interactive table.\"\n",
              "              style=\"display:none;\">\n",
              "        \n",
              "  <svg xmlns=\"http://www.w3.org/2000/svg\" height=\"24px\"viewBox=\"0 0 24 24\"\n",
              "       width=\"24px\">\n",
              "    <path d=\"M0 0h24v24H0V0z\" fill=\"none\"/>\n",
              "    <path d=\"M18.56 5.44l.94 2.06.94-2.06 2.06-.94-2.06-.94-.94-2.06-.94 2.06-2.06.94zm-11 1L8.5 8.5l.94-2.06 2.06-.94-2.06-.94L8.5 2.5l-.94 2.06-2.06.94zm10 10l.94 2.06.94-2.06 2.06-.94-2.06-.94-.94-2.06-.94 2.06-2.06.94z\"/><path d=\"M17.41 7.96l-1.37-1.37c-.4-.4-.92-.59-1.43-.59-.52 0-1.04.2-1.43.59L10.3 9.45l-7.72 7.72c-.78.78-.78 2.05 0 2.83L4 21.41c.39.39.9.59 1.41.59.51 0 1.02-.2 1.41-.59l7.78-7.78 2.81-2.81c.8-.78.8-2.07 0-2.86zM5.41 20L4 18.59l7.72-7.72 1.47 1.35L5.41 20z\"/>\n",
              "  </svg>\n",
              "      </button>\n",
              "      \n",
              "  <style>\n",
              "    .colab-df-container {\n",
              "      display:flex;\n",
              "      flex-wrap:wrap;\n",
              "      gap: 12px;\n",
              "    }\n",
              "\n",
              "    .colab-df-convert {\n",
              "      background-color: #E8F0FE;\n",
              "      border: none;\n",
              "      border-radius: 50%;\n",
              "      cursor: pointer;\n",
              "      display: none;\n",
              "      fill: #1967D2;\n",
              "      height: 32px;\n",
              "      padding: 0 0 0 0;\n",
              "      width: 32px;\n",
              "    }\n",
              "\n",
              "    .colab-df-convert:hover {\n",
              "      background-color: #E2EBFA;\n",
              "      box-shadow: 0px 1px 2px rgba(60, 64, 67, 0.3), 0px 1px 3px 1px rgba(60, 64, 67, 0.15);\n",
              "      fill: #174EA6;\n",
              "    }\n",
              "\n",
              "    [theme=dark] .colab-df-convert {\n",
              "      background-color: #3B4455;\n",
              "      fill: #D2E3FC;\n",
              "    }\n",
              "\n",
              "    [theme=dark] .colab-df-convert:hover {\n",
              "      background-color: #434B5C;\n",
              "      box-shadow: 0px 1px 3px 1px rgba(0, 0, 0, 0.15);\n",
              "      filter: drop-shadow(0px 1px 2px rgba(0, 0, 0, 0.3));\n",
              "      fill: #FFFFFF;\n",
              "    }\n",
              "  </style>\n",
              "\n",
              "      <script>\n",
              "        const buttonEl =\n",
              "          document.querySelector('#df-6c71416a-5ce5-42f0-8c83-7975746f2169 button.colab-df-convert');\n",
              "        buttonEl.style.display =\n",
              "          google.colab.kernel.accessAllowed ? 'block' : 'none';\n",
              "\n",
              "        async function convertToInteractive(key) {\n",
              "          const element = document.querySelector('#df-6c71416a-5ce5-42f0-8c83-7975746f2169');\n",
              "          const dataTable =\n",
              "            await google.colab.kernel.invokeFunction('convertToInteractive',\n",
              "                                                     [key], {});\n",
              "          if (!dataTable) return;\n",
              "\n",
              "          const docLinkHtml = 'Like what you see? Visit the ' +\n",
              "            '<a target=\"_blank\" href=https://colab.research.google.com/notebooks/data_table.ipynb>data table notebook</a>'\n",
              "            + ' to learn more about interactive tables.';\n",
              "          element.innerHTML = '';\n",
              "          dataTable['output_type'] = 'display_data';\n",
              "          await google.colab.output.renderOutput(dataTable, element);\n",
              "          const docLink = document.createElement('div');\n",
              "          docLink.innerHTML = docLinkHtml;\n",
              "          element.appendChild(docLink);\n",
              "        }\n",
              "      </script>\n",
              "    </div>\n",
              "  </div>\n",
              "  "
            ]
          },
          "metadata": {},
          "execution_count": 8
        }
      ]
    },
    {
      "cell_type": "code",
      "source": [
        "text = []"
      ],
      "metadata": {
        "id": "f4fkhpFvp_Hp"
      },
      "execution_count": 9,
      "outputs": []
    },
    {
      "cell_type": "markdown",
      "source": [
        "Cleaning tweets."
      ],
      "metadata": {
        "id": "XMqAhOnoLz4J"
      }
    },
    {
      "cell_type": "code",
      "source": [
        "for sentence in df['tweet_text']:\n",
        "    clean_sentence = clean_text(sentence)\n",
        "    text.append(sentence) "
      ],
      "metadata": {
        "id": "qdCM0VxRrEc3"
      },
      "execution_count": 10,
      "outputs": []
    },
    {
      "cell_type": "code",
      "source": [
        "predictions = []"
      ],
      "metadata": {
        "colab": {
          "base_uri": "https://localhost:8080/"
        },
        "id": "McnuMI8dwU6C",
        "outputId": "e2d16338-402d-4c97-9ed3-d4034355ebd2"
      },
      "execution_count": 13,
      "outputs": [
        {
          "output_type": "stream",
          "name": "stdout",
          "text": [
            "47692\n"
          ]
        }
      ]
    },
    {
      "cell_type": "markdown",
      "source": [
        "Running evaluation."
      ],
      "metadata": {
        "id": "KEeBYLWGMNwj"
      }
    },
    {
      "cell_type": "code",
      "source": [
        "for sentence in text:\n",
        "    prediction = evaluate(sentence, pipe_model)\n",
        "    prediction_value = prediction[0]\n",
        "    predictions.append(prediction_value)"
      ],
      "metadata": {
        "id": "CgTaWk3grq5b"
      },
      "execution_count": 14,
      "outputs": []
    },
    {
      "cell_type": "code",
      "source": [
        "df['predictions'] = predictions"
      ],
      "metadata": {
        "id": "nrWWaQo-rRDp"
      },
      "execution_count": 16,
      "outputs": []
    },
    {
      "cell_type": "code",
      "source": [
        "label2class={\"not_cyberbullying\": 0, \"gender\": 1, \"religion\": 2, \"age\": 3,  \"ethnicity\": 4,\"other_cyberbullying\":5}"
      ],
      "metadata": {
        "id": "A_lxoJ9UoQdR"
      },
      "execution_count": 18,
      "outputs": []
    },
    {
      "cell_type": "code",
      "source": [
        "df_replace = df"
      ],
      "metadata": {
        "id": "vOoOF3Y79tyg"
      },
      "execution_count": 19,
      "outputs": []
    },
    {
      "cell_type": "code",
      "source": [
        "df_replace['cyberbullying_type'] = df_replace['cyberbullying_type'].replace(label2class)"
      ],
      "metadata": {
        "id": "dgOAjGy89oj5"
      },
      "execution_count": 20,
      "outputs": []
    },
    {
      "cell_type": "code",
      "source": [
        "df_replace"
      ],
      "metadata": {
        "colab": {
          "base_uri": "https://localhost:8080/",
          "height": 424
        },
        "id": "kF_mOAEN9wtl",
        "outputId": "d66a0255-e88e-4e9f-f28c-1227940c5bd5"
      },
      "execution_count": 21,
      "outputs": [
        {
          "output_type": "execute_result",
          "data": {
            "text/plain": [
              "                                              tweet_text  cyberbullying_type  \\\n",
              "0      Worm is about a bullied girl in High School wh...                   3   \n",
              "1      Did they though? How many kids killing themsel...                   3   \n",
              "2      The Congressmen's & Senator's daughters that I...                   3   \n",
              "3      Well it's probably mostly bts. I heard a girl ...                   3   \n",
              "4      It's almost like that whole school of argument...                   3   \n",
              "...                                                  ...                 ...   \n",
              "47687  A false profit that says the right things. But...                   2   \n",
              "47688  Thats a fair question. I think the Iran deal i...                   2   \n",
              "47689  Arguing with idiot is wasting time What about ...                   2   \n",
              "47690  @ummayman90 As a percentage there are very few...                   2   \n",
              "47691  Shutup you idiot. Victim blaming. Acting as if...                   2   \n",
              "\n",
              "       predictions  \n",
              "0                3  \n",
              "1                3  \n",
              "2                5  \n",
              "3                3  \n",
              "4                3  \n",
              "...            ...  \n",
              "47687            2  \n",
              "47688            2  \n",
              "47689            2  \n",
              "47690            2  \n",
              "47691            2  \n",
              "\n",
              "[47692 rows x 3 columns]"
            ],
            "text/html": [
              "\n",
              "  <div id=\"df-3a2ad7ee-93d6-4c8d-8751-22ac79197f1e\">\n",
              "    <div class=\"colab-df-container\">\n",
              "      <div>\n",
              "<style scoped>\n",
              "    .dataframe tbody tr th:only-of-type {\n",
              "        vertical-align: middle;\n",
              "    }\n",
              "\n",
              "    .dataframe tbody tr th {\n",
              "        vertical-align: top;\n",
              "    }\n",
              "\n",
              "    .dataframe thead th {\n",
              "        text-align: right;\n",
              "    }\n",
              "</style>\n",
              "<table border=\"1\" class=\"dataframe\">\n",
              "  <thead>\n",
              "    <tr style=\"text-align: right;\">\n",
              "      <th></th>\n",
              "      <th>tweet_text</th>\n",
              "      <th>cyberbullying_type</th>\n",
              "      <th>predictions</th>\n",
              "    </tr>\n",
              "  </thead>\n",
              "  <tbody>\n",
              "    <tr>\n",
              "      <th>0</th>\n",
              "      <td>Worm is about a bullied girl in High School wh...</td>\n",
              "      <td>3</td>\n",
              "      <td>3</td>\n",
              "    </tr>\n",
              "    <tr>\n",
              "      <th>1</th>\n",
              "      <td>Did they though? How many kids killing themsel...</td>\n",
              "      <td>3</td>\n",
              "      <td>3</td>\n",
              "    </tr>\n",
              "    <tr>\n",
              "      <th>2</th>\n",
              "      <td>The Congressmen's &amp; Senator's daughters that I...</td>\n",
              "      <td>3</td>\n",
              "      <td>5</td>\n",
              "    </tr>\n",
              "    <tr>\n",
              "      <th>3</th>\n",
              "      <td>Well it's probably mostly bts. I heard a girl ...</td>\n",
              "      <td>3</td>\n",
              "      <td>3</td>\n",
              "    </tr>\n",
              "    <tr>\n",
              "      <th>4</th>\n",
              "      <td>It's almost like that whole school of argument...</td>\n",
              "      <td>3</td>\n",
              "      <td>3</td>\n",
              "    </tr>\n",
              "    <tr>\n",
              "      <th>...</th>\n",
              "      <td>...</td>\n",
              "      <td>...</td>\n",
              "      <td>...</td>\n",
              "    </tr>\n",
              "    <tr>\n",
              "      <th>47687</th>\n",
              "      <td>A false profit that says the right things. But...</td>\n",
              "      <td>2</td>\n",
              "      <td>2</td>\n",
              "    </tr>\n",
              "    <tr>\n",
              "      <th>47688</th>\n",
              "      <td>Thats a fair question. I think the Iran deal i...</td>\n",
              "      <td>2</td>\n",
              "      <td>2</td>\n",
              "    </tr>\n",
              "    <tr>\n",
              "      <th>47689</th>\n",
              "      <td>Arguing with idiot is wasting time What about ...</td>\n",
              "      <td>2</td>\n",
              "      <td>2</td>\n",
              "    </tr>\n",
              "    <tr>\n",
              "      <th>47690</th>\n",
              "      <td>@ummayman90 As a percentage there are very few...</td>\n",
              "      <td>2</td>\n",
              "      <td>2</td>\n",
              "    </tr>\n",
              "    <tr>\n",
              "      <th>47691</th>\n",
              "      <td>Shutup you idiot. Victim blaming. Acting as if...</td>\n",
              "      <td>2</td>\n",
              "      <td>2</td>\n",
              "    </tr>\n",
              "  </tbody>\n",
              "</table>\n",
              "<p>47692 rows × 3 columns</p>\n",
              "</div>\n",
              "      <button class=\"colab-df-convert\" onclick=\"convertToInteractive('df-3a2ad7ee-93d6-4c8d-8751-22ac79197f1e')\"\n",
              "              title=\"Convert this dataframe to an interactive table.\"\n",
              "              style=\"display:none;\">\n",
              "        \n",
              "  <svg xmlns=\"http://www.w3.org/2000/svg\" height=\"24px\"viewBox=\"0 0 24 24\"\n",
              "       width=\"24px\">\n",
              "    <path d=\"M0 0h24v24H0V0z\" fill=\"none\"/>\n",
              "    <path d=\"M18.56 5.44l.94 2.06.94-2.06 2.06-.94-2.06-.94-.94-2.06-.94 2.06-2.06.94zm-11 1L8.5 8.5l.94-2.06 2.06-.94-2.06-.94L8.5 2.5l-.94 2.06-2.06.94zm10 10l.94 2.06.94-2.06 2.06-.94-2.06-.94-.94-2.06-.94 2.06-2.06.94z\"/><path d=\"M17.41 7.96l-1.37-1.37c-.4-.4-.92-.59-1.43-.59-.52 0-1.04.2-1.43.59L10.3 9.45l-7.72 7.72c-.78.78-.78 2.05 0 2.83L4 21.41c.39.39.9.59 1.41.59.51 0 1.02-.2 1.41-.59l7.78-7.78 2.81-2.81c.8-.78.8-2.07 0-2.86zM5.41 20L4 18.59l7.72-7.72 1.47 1.35L5.41 20z\"/>\n",
              "  </svg>\n",
              "      </button>\n",
              "      \n",
              "  <style>\n",
              "    .colab-df-container {\n",
              "      display:flex;\n",
              "      flex-wrap:wrap;\n",
              "      gap: 12px;\n",
              "    }\n",
              "\n",
              "    .colab-df-convert {\n",
              "      background-color: #E8F0FE;\n",
              "      border: none;\n",
              "      border-radius: 50%;\n",
              "      cursor: pointer;\n",
              "      display: none;\n",
              "      fill: #1967D2;\n",
              "      height: 32px;\n",
              "      padding: 0 0 0 0;\n",
              "      width: 32px;\n",
              "    }\n",
              "\n",
              "    .colab-df-convert:hover {\n",
              "      background-color: #E2EBFA;\n",
              "      box-shadow: 0px 1px 2px rgba(60, 64, 67, 0.3), 0px 1px 3px 1px rgba(60, 64, 67, 0.15);\n",
              "      fill: #174EA6;\n",
              "    }\n",
              "\n",
              "    [theme=dark] .colab-df-convert {\n",
              "      background-color: #3B4455;\n",
              "      fill: #D2E3FC;\n",
              "    }\n",
              "\n",
              "    [theme=dark] .colab-df-convert:hover {\n",
              "      background-color: #434B5C;\n",
              "      box-shadow: 0px 1px 3px 1px rgba(0, 0, 0, 0.15);\n",
              "      filter: drop-shadow(0px 1px 2px rgba(0, 0, 0, 0.3));\n",
              "      fill: #FFFFFF;\n",
              "    }\n",
              "  </style>\n",
              "\n",
              "      <script>\n",
              "        const buttonEl =\n",
              "          document.querySelector('#df-3a2ad7ee-93d6-4c8d-8751-22ac79197f1e button.colab-df-convert');\n",
              "        buttonEl.style.display =\n",
              "          google.colab.kernel.accessAllowed ? 'block' : 'none';\n",
              "\n",
              "        async function convertToInteractive(key) {\n",
              "          const element = document.querySelector('#df-3a2ad7ee-93d6-4c8d-8751-22ac79197f1e');\n",
              "          const dataTable =\n",
              "            await google.colab.kernel.invokeFunction('convertToInteractive',\n",
              "                                                     [key], {});\n",
              "          if (!dataTable) return;\n",
              "\n",
              "          const docLinkHtml = 'Like what you see? Visit the ' +\n",
              "            '<a target=\"_blank\" href=https://colab.research.google.com/notebooks/data_table.ipynb>data table notebook</a>'\n",
              "            + ' to learn more about interactive tables.';\n",
              "          element.innerHTML = '';\n",
              "          dataTable['output_type'] = 'display_data';\n",
              "          await google.colab.output.renderOutput(dataTable, element);\n",
              "          const docLink = document.createElement('div');\n",
              "          docLink.innerHTML = docLinkHtml;\n",
              "          element.appendChild(docLink);\n",
              "        }\n",
              "      </script>\n",
              "    </div>\n",
              "  </div>\n",
              "  "
            ]
          },
          "metadata": {},
          "execution_count": 21
        }
      ]
    },
    {
      "cell_type": "markdown",
      "source": [
        "Pulling all false predictions."
      ],
      "metadata": {
        "id": "-aX1ziK9Mlp1"
      }
    },
    {
      "cell_type": "code",
      "source": [
        "mask = df['cyberbullying_type'] == df['predictions']\n",
        "\n",
        "df = df[~mask]\n",
        "\n",
        "df_false = df.reset_index(drop=True)"
      ],
      "metadata": {
        "id": "93Q5O1hb92UK"
      },
      "execution_count": 22,
      "outputs": []
    },
    {
      "cell_type": "code",
      "source": [
        "df_false"
      ],
      "metadata": {
        "colab": {
          "base_uri": "https://localhost:8080/",
          "height": 424
        },
        "id": "Nn8r23RI-SfO",
        "outputId": "49c180ae-4dc9-4ab0-d3f3-c4d084791839"
      },
      "execution_count": 23,
      "outputs": [
        {
          "output_type": "execute_result",
          "data": {
            "text/plain": [
              "                                             tweet_text  cyberbullying_type  \\\n",
              "0     The Congressmen's & Senator's daughters that I...                   3   \n",
              "1     @ThaArsonist leave that little person alone......                   3   \n",
              "2     Everyone tweeting \"this tweet/ your tweet/ you...                   3   \n",
              "3     RT @AuthorNinaPerez: How about they're ALL nas...                   3   \n",
              "4     //It's getting late here. My writing pace is s...                   3   \n",
              "...                                                 ...                 ...   \n",
              "6571  YOU spend my tax dollars to fund religious sch...                   2   \n",
              "6572  Somalis aren’t black. So many Arabs and Asians...                   2   \n",
              "6573  Before ANYBODY can support the process this ba...                   2   \n",
              "6574  @zaidbenjamin Daesh really go to extremes to s...                   2   \n",
              "6575  @santafeez Fighting for him would mean not for...                   2   \n",
              "\n",
              "      predictions  \n",
              "0               5  \n",
              "1               5  \n",
              "2               0  \n",
              "3               5  \n",
              "4               0  \n",
              "...           ...  \n",
              "6571            3  \n",
              "6572            4  \n",
              "6573            0  \n",
              "6574            0  \n",
              "6575            5  \n",
              "\n",
              "[6576 rows x 3 columns]"
            ],
            "text/html": [
              "\n",
              "  <div id=\"df-7d88a11c-0f7a-41c6-9a6d-f63c459fab08\">\n",
              "    <div class=\"colab-df-container\">\n",
              "      <div>\n",
              "<style scoped>\n",
              "    .dataframe tbody tr th:only-of-type {\n",
              "        vertical-align: middle;\n",
              "    }\n",
              "\n",
              "    .dataframe tbody tr th {\n",
              "        vertical-align: top;\n",
              "    }\n",
              "\n",
              "    .dataframe thead th {\n",
              "        text-align: right;\n",
              "    }\n",
              "</style>\n",
              "<table border=\"1\" class=\"dataframe\">\n",
              "  <thead>\n",
              "    <tr style=\"text-align: right;\">\n",
              "      <th></th>\n",
              "      <th>tweet_text</th>\n",
              "      <th>cyberbullying_type</th>\n",
              "      <th>predictions</th>\n",
              "    </tr>\n",
              "  </thead>\n",
              "  <tbody>\n",
              "    <tr>\n",
              "      <th>0</th>\n",
              "      <td>The Congressmen's &amp; Senator's daughters that I...</td>\n",
              "      <td>3</td>\n",
              "      <td>5</td>\n",
              "    </tr>\n",
              "    <tr>\n",
              "      <th>1</th>\n",
              "      <td>@ThaArsonist leave that little person alone......</td>\n",
              "      <td>3</td>\n",
              "      <td>5</td>\n",
              "    </tr>\n",
              "    <tr>\n",
              "      <th>2</th>\n",
              "      <td>Everyone tweeting \"this tweet/ your tweet/ you...</td>\n",
              "      <td>3</td>\n",
              "      <td>0</td>\n",
              "    </tr>\n",
              "    <tr>\n",
              "      <th>3</th>\n",
              "      <td>RT @AuthorNinaPerez: How about they're ALL nas...</td>\n",
              "      <td>3</td>\n",
              "      <td>5</td>\n",
              "    </tr>\n",
              "    <tr>\n",
              "      <th>4</th>\n",
              "      <td>//It's getting late here. My writing pace is s...</td>\n",
              "      <td>3</td>\n",
              "      <td>0</td>\n",
              "    </tr>\n",
              "    <tr>\n",
              "      <th>...</th>\n",
              "      <td>...</td>\n",
              "      <td>...</td>\n",
              "      <td>...</td>\n",
              "    </tr>\n",
              "    <tr>\n",
              "      <th>6571</th>\n",
              "      <td>YOU spend my tax dollars to fund religious sch...</td>\n",
              "      <td>2</td>\n",
              "      <td>3</td>\n",
              "    </tr>\n",
              "    <tr>\n",
              "      <th>6572</th>\n",
              "      <td>Somalis aren’t black. So many Arabs and Asians...</td>\n",
              "      <td>2</td>\n",
              "      <td>4</td>\n",
              "    </tr>\n",
              "    <tr>\n",
              "      <th>6573</th>\n",
              "      <td>Before ANYBODY can support the process this ba...</td>\n",
              "      <td>2</td>\n",
              "      <td>0</td>\n",
              "    </tr>\n",
              "    <tr>\n",
              "      <th>6574</th>\n",
              "      <td>@zaidbenjamin Daesh really go to extremes to s...</td>\n",
              "      <td>2</td>\n",
              "      <td>0</td>\n",
              "    </tr>\n",
              "    <tr>\n",
              "      <th>6575</th>\n",
              "      <td>@santafeez Fighting for him would mean not for...</td>\n",
              "      <td>2</td>\n",
              "      <td>5</td>\n",
              "    </tr>\n",
              "  </tbody>\n",
              "</table>\n",
              "<p>6576 rows × 3 columns</p>\n",
              "</div>\n",
              "      <button class=\"colab-df-convert\" onclick=\"convertToInteractive('df-7d88a11c-0f7a-41c6-9a6d-f63c459fab08')\"\n",
              "              title=\"Convert this dataframe to an interactive table.\"\n",
              "              style=\"display:none;\">\n",
              "        \n",
              "  <svg xmlns=\"http://www.w3.org/2000/svg\" height=\"24px\"viewBox=\"0 0 24 24\"\n",
              "       width=\"24px\">\n",
              "    <path d=\"M0 0h24v24H0V0z\" fill=\"none\"/>\n",
              "    <path d=\"M18.56 5.44l.94 2.06.94-2.06 2.06-.94-2.06-.94-.94-2.06-.94 2.06-2.06.94zm-11 1L8.5 8.5l.94-2.06 2.06-.94-2.06-.94L8.5 2.5l-.94 2.06-2.06.94zm10 10l.94 2.06.94-2.06 2.06-.94-2.06-.94-.94-2.06-.94 2.06-2.06.94z\"/><path d=\"M17.41 7.96l-1.37-1.37c-.4-.4-.92-.59-1.43-.59-.52 0-1.04.2-1.43.59L10.3 9.45l-7.72 7.72c-.78.78-.78 2.05 0 2.83L4 21.41c.39.39.9.59 1.41.59.51 0 1.02-.2 1.41-.59l7.78-7.78 2.81-2.81c.8-.78.8-2.07 0-2.86zM5.41 20L4 18.59l7.72-7.72 1.47 1.35L5.41 20z\"/>\n",
              "  </svg>\n",
              "      </button>\n",
              "      \n",
              "  <style>\n",
              "    .colab-df-container {\n",
              "      display:flex;\n",
              "      flex-wrap:wrap;\n",
              "      gap: 12px;\n",
              "    }\n",
              "\n",
              "    .colab-df-convert {\n",
              "      background-color: #E8F0FE;\n",
              "      border: none;\n",
              "      border-radius: 50%;\n",
              "      cursor: pointer;\n",
              "      display: none;\n",
              "      fill: #1967D2;\n",
              "      height: 32px;\n",
              "      padding: 0 0 0 0;\n",
              "      width: 32px;\n",
              "    }\n",
              "\n",
              "    .colab-df-convert:hover {\n",
              "      background-color: #E2EBFA;\n",
              "      box-shadow: 0px 1px 2px rgba(60, 64, 67, 0.3), 0px 1px 3px 1px rgba(60, 64, 67, 0.15);\n",
              "      fill: #174EA6;\n",
              "    }\n",
              "\n",
              "    [theme=dark] .colab-df-convert {\n",
              "      background-color: #3B4455;\n",
              "      fill: #D2E3FC;\n",
              "    }\n",
              "\n",
              "    [theme=dark] .colab-df-convert:hover {\n",
              "      background-color: #434B5C;\n",
              "      box-shadow: 0px 1px 3px 1px rgba(0, 0, 0, 0.15);\n",
              "      filter: drop-shadow(0px 1px 2px rgba(0, 0, 0, 0.3));\n",
              "      fill: #FFFFFF;\n",
              "    }\n",
              "  </style>\n",
              "\n",
              "      <script>\n",
              "        const buttonEl =\n",
              "          document.querySelector('#df-7d88a11c-0f7a-41c6-9a6d-f63c459fab08 button.colab-df-convert');\n",
              "        buttonEl.style.display =\n",
              "          google.colab.kernel.accessAllowed ? 'block' : 'none';\n",
              "\n",
              "        async function convertToInteractive(key) {\n",
              "          const element = document.querySelector('#df-7d88a11c-0f7a-41c6-9a6d-f63c459fab08');\n",
              "          const dataTable =\n",
              "            await google.colab.kernel.invokeFunction('convertToInteractive',\n",
              "                                                     [key], {});\n",
              "          if (!dataTable) return;\n",
              "\n",
              "          const docLinkHtml = 'Like what you see? Visit the ' +\n",
              "            '<a target=\"_blank\" href=https://colab.research.google.com/notebooks/data_table.ipynb>data table notebook</a>'\n",
              "            + ' to learn more about interactive tables.';\n",
              "          element.innerHTML = '';\n",
              "          dataTable['output_type'] = 'display_data';\n",
              "          await google.colab.output.renderOutput(dataTable, element);\n",
              "          const docLink = document.createElement('div');\n",
              "          docLink.innerHTML = docLinkHtml;\n",
              "          element.appendChild(docLink);\n",
              "        }\n",
              "      </script>\n",
              "    </div>\n",
              "  </div>\n",
              "  "
            ]
          },
          "metadata": {},
          "execution_count": 23
        }
      ]
    },
    {
      "cell_type": "code",
      "source": [
        "actual_labels = df_replace['cyberbullying_type']\n",
        "predicted_labels = df_replace['predictions']"
      ],
      "metadata": {
        "id": "53CI_ob8-a6g"
      },
      "execution_count": 24,
      "outputs": []
    },
    {
      "cell_type": "code",
      "source": [
        "from sklearn.metrics import confusion_matrix as cm\n",
        "confusion_matrix = cm(actual_labels, predicted_labels)"
      ],
      "metadata": {
        "id": "wf8qSNBbGQIJ"
      },
      "execution_count": 25,
      "outputs": []
    },
    {
      "cell_type": "code",
      "source": [
        "# Plotting the confusion matrix as a heatmap\n",
        "sns.heatmap(confusion_matrix, annot=True, fmt='d', cmap='Blues')\n",
        "\n",
        "plt.xlabel('Predicted Labels')\n",
        "plt.ylabel('Actual Labels')\n",
        "plt.title('Confusion Matrix')\n",
        "\n",
        "plt.show()"
      ],
      "metadata": {
        "colab": {
          "base_uri": "https://localhost:8080/",
          "height": 472
        },
        "id": "CA1XyuJ-EalV",
        "outputId": "627eced2-88ed-49c8-d49c-fdb52fd1afe8"
      },
      "execution_count": 26,
      "outputs": [
        {
          "output_type": "display_data",
          "data": {
            "text/plain": [
              "<Figure size 640x480 with 2 Axes>"
            ],
            "image/png": "[encoded data removed]"
          },
          "metadata": {}
        }
      ]
    },
    {
      "cell_type": "code",
      "source": [
        "df_false"
      ],
      "metadata": {
        "colab": {
          "base_uri": "https://localhost:8080/",
          "height": 424
        },
        "id": "xi8M3QjfFrcZ",
        "outputId": "306e85e5-6573-47fc-c36b-dc6bfd8cccab"
      },
      "execution_count": 27,
      "outputs": [
        {
          "output_type": "execute_result",
          "data": {
            "text/plain": [
              "                                             tweet_text  cyberbullying_type  \\\n",
              "0     The Congressmen's & Senator's daughters that I...                   3   \n",
              "1     @ThaArsonist leave that little person alone......                   3   \n",
              "2     Everyone tweeting \"this tweet/ your tweet/ you...                   3   \n",
              "3     RT @AuthorNinaPerez: How about they're ALL nas...                   3   \n",
              "4     //It's getting late here. My writing pace is s...                   3   \n",
              "...                                                 ...                 ...   \n",
              "6571  YOU spend my tax dollars to fund religious sch...                   2   \n",
              "6572  Somalis aren’t black. So many Arabs and Asians...                   2   \n",
              "6573  Before ANYBODY can support the process this ba...                   2   \n",
              "6574  @zaidbenjamin Daesh really go to extremes to s...                   2   \n",
              "6575  @santafeez Fighting for him would mean not for...                   2   \n",
              "\n",
              "      predictions  \n",
              "0               5  \n",
              "1               5  \n",
              "2               0  \n",
              "3               5  \n",
              "4               0  \n",
              "...           ...  \n",
              "6571            3  \n",
              "6572            4  \n",
              "6573            0  \n",
              "6574            0  \n",
              "6575            5  \n",
              "\n",
              "[6576 rows x 3 columns]"
            ],
            "text/html": [
              "\n",
              "  <div id=\"df-d804d197-7158-4127-b7db-cc050265deb8\">\n",
              "    <div class=\"colab-df-container\">\n",
              "      <div>\n",
              "<style scoped>\n",
              "    .dataframe tbody tr th:only-of-type {\n",
              "        vertical-align: middle;\n",
              "    }\n",
              "\n",
              "    .dataframe tbody tr th {\n",
              "        vertical-align: top;\n",
              "    }\n",
              "\n",
              "    .dataframe thead th {\n",
              "        text-align: right;\n",
              "    }\n",
              "</style>\n",
              "<table border=\"1\" class=\"dataframe\">\n",
              "  <thead>\n",
              "    <tr style=\"text-align: right;\">\n",
              "      <th></th>\n",
              "      <th>tweet_text</th>\n",
              "      <th>cyberbullying_type</th>\n",
              "      <th>predictions</th>\n",
              "    </tr>\n",
              "  </thead>\n",
              "  <tbody>\n",
              "    <tr>\n",
              "      <th>0</th>\n",
              "      <td>The Congressmen's &amp; Senator's daughters that I...</td>\n",
              "      <td>3</td>\n",
              "      <td>5</td>\n",
              "    </tr>\n",
              "    <tr>\n",
              "      <th>1</th>\n",
              "      <td>@ThaArsonist leave that little person alone......</td>\n",
              "      <td>3</td>\n",
              "      <td>5</td>\n",
              "    </tr>\n",
              "    <tr>\n",
              "      <th>2</th>\n",
              "      <td>Everyone tweeting \"this tweet/ your tweet/ you...</td>\n",
              "      <td>3</td>\n",
              "      <td>0</td>\n",
              "    </tr>\n",
              "    <tr>\n",
              "      <th>3</th>\n",
              "      <td>RT @AuthorNinaPerez: How about they're ALL nas...</td>\n",
              "      <td>3</td>\n",
              "      <td>5</td>\n",
              "    </tr>\n",
              "    <tr>\n",
              "      <th>4</th>\n",
              "      <td>//It's getting late here. My writing pace is s...</td>\n",
              "      <td>3</td>\n",
              "      <td>0</td>\n",
              "    </tr>\n",
              "    <tr>\n",
              "      <th>...</th>\n",
              "      <td>...</td>\n",
              "      <td>...</td>\n",
              "      <td>...</td>\n",
              "    </tr>\n",
              "    <tr>\n",
              "      <th>6571</th>\n",
              "      <td>YOU spend my tax dollars to fund religious sch...</td>\n",
              "      <td>2</td>\n",
              "      <td>3</td>\n",
              "    </tr>\n",
              "    <tr>\n",
              "      <th>6572</th>\n",
              "      <td>Somalis aren’t black. So many Arabs and Asians...</td>\n",
              "      <td>2</td>\n",
              "      <td>4</td>\n",
              "    </tr>\n",
              "    <tr>\n",
              "      <th>6573</th>\n",
              "      <td>Before ANYBODY can support the process this ba...</td>\n",
              "      <td>2</td>\n",
              "      <td>0</td>\n",
              "    </tr>\n",
              "    <tr>\n",
              "      <th>6574</th>\n",
              "      <td>@zaidbenjamin Daesh really go to extremes to s...</td>\n",
              "      <td>2</td>\n",
              "      <td>0</td>\n",
              "    </tr>\n",
              "    <tr>\n",
              "      <th>6575</th>\n",
              "      <td>@santafeez Fighting for him would mean not for...</td>\n",
              "      <td>2</td>\n",
              "      <td>5</td>\n",
              "    </tr>\n",
              "  </tbody>\n",
              "</table>\n",
              "<p>6576 rows × 3 columns</p>\n",
              "</div>\n",
              "      <button class=\"colab-df-convert\" onclick=\"convertToInteractive('df-d804d197-7158-4127-b7db-cc050265deb8')\"\n",
              "              title=\"Convert this dataframe to an interactive table.\"\n",
              "              style=\"display:none;\">\n",
              "        \n",
              "  <svg xmlns=\"http://www.w3.org/2000/svg\" height=\"24px\"viewBox=\"0 0 24 24\"\n",
              "       width=\"24px\">\n",
              "    <path d=\"M0 0h24v24H0V0z\" fill=\"none\"/>\n",
              "    <path d=\"M18.56 5.44l.94 2.06.94-2.06 2.06-.94-2.06-.94-.94-2.06-.94 2.06-2.06.94zm-11 1L8.5 8.5l.94-2.06 2.06-.94-2.06-.94L8.5 2.5l-.94 2.06-2.06.94zm10 10l.94 2.06.94-2.06 2.06-.94-2.06-.94-.94-2.06-.94 2.06-2.06.94z\"/><path d=\"M17.41 7.96l-1.37-1.37c-.4-.4-.92-.59-1.43-.59-.52 0-1.04.2-1.43.59L10.3 9.45l-7.72 7.72c-.78.78-.78 2.05 0 2.83L4 21.41c.39.39.9.59 1.41.59.51 0 1.02-.2 1.41-.59l7.78-7.78 2.81-2.81c.8-.78.8-2.07 0-2.86zM5.41 20L4 18.59l7.72-7.72 1.47 1.35L5.41 20z\"/>\n",
              "  </svg>\n",
              "      </button>\n",
              "      \n",
              "  <style>\n",
              "    .colab-df-container {\n",
              "      display:flex;\n",
              "      flex-wrap:wrap;\n",
              "      gap: 12px;\n",
              "    }\n",
              "\n",
              "    .colab-df-convert {\n",
              "      background-color: #E8F0FE;\n",
              "      border: none;\n",
              "      border-radius: 50%;\n",
              "      cursor: pointer;\n",
              "      display: none;\n",
              "      fill: #1967D2;\n",
              "      height: 32px;\n",
              "      padding: 0 0 0 0;\n",
              "      width: 32px;\n",
              "    }\n",
              "\n",
              "    .colab-df-convert:hover {\n",
              "      background-color: #E2EBFA;\n",
              "      box-shadow: 0px 1px 2px rgba(60, 64, 67, 0.3), 0px 1px 3px 1px rgba(60, 64, 67, 0.15);\n",
              "      fill: #174EA6;\n",
              "    }\n",
              "\n",
              "    [theme=dark] .colab-df-convert {\n",
              "      background-color: #3B4455;\n",
              "      fill: #D2E3FC;\n",
              "    }\n",
              "\n",
              "    [theme=dark] .colab-df-convert:hover {\n",
              "      background-color: #434B5C;\n",
              "      box-shadow: 0px 1px 3px 1px rgba(0, 0, 0, 0.15);\n",
              "      filter: drop-shadow(0px 1px 2px rgba(0, 0, 0, 0.3));\n",
              "      fill: #FFFFFF;\n",
              "    }\n",
              "  </style>\n",
              "\n",
              "      <script>\n",
              "        const buttonEl =\n",
              "          document.querySelector('#df-d804d197-7158-4127-b7db-cc050265deb8 button.colab-df-convert');\n",
              "        buttonEl.style.display =\n",
              "          google.colab.kernel.accessAllowed ? 'block' : 'none';\n",
              "\n",
              "        async function convertToInteractive(key) {\n",
              "          const element = document.querySelector('#df-d804d197-7158-4127-b7db-cc050265deb8');\n",
              "          const dataTable =\n",
              "            await google.colab.kernel.invokeFunction('convertToInteractive',\n",
              "                                                     [key], {});\n",
              "          if (!dataTable) return;\n",
              "\n",
              "          const docLinkHtml = 'Like what you see? Visit the ' +\n",
              "            '<a target=\"_blank\" href=https://colab.research.google.com/notebooks/data_table.ipynb>data table notebook</a>'\n",
              "            + ' to learn more about interactive tables.';\n",
              "          element.innerHTML = '';\n",
              "          dataTable['output_type'] = 'display_data';\n",
              "          await google.colab.output.renderOutput(dataTable, element);\n",
              "          const docLink = document.createElement('div');\n",
              "          docLink.innerHTML = docLinkHtml;\n",
              "          element.appendChild(docLink);\n",
              "        }\n",
              "      </script>\n",
              "    </div>\n",
              "  </div>\n",
              "  "
            ]
          },
          "metadata": {},
          "execution_count": 27
        }
      ]
    },
    {
      "cell_type": "code",
      "source": [
        "df_false.to_csv('false_predictions.csv', index=False)"
      ],
      "metadata": {
        "id": "oluE527ZI-GC"
      },
      "execution_count": 28,
      "outputs": []
    },
    {
      "cell_type": "code",
      "source": [
        "from sklearn.feature_extraction.text import CountVectorizer"
      ],
      "metadata": {
        "id": "2gi0X2zHJ0lq"
      },
      "execution_count": 29,
      "outputs": []
    },
    {
      "cell_type": "markdown",
      "source": [
        "Pulling false-positives for category 5, \"other\" and then generating n-grams."
      ],
      "metadata": {
        "id": "Sx6h5yACMcNk"
      }
    },
    {
      "cell_type": "code",
      "source": [
        "df_false_5s = df_false[df_false['predictions'] == 5]"
      ],
      "metadata": {
        "id": "hkG4A-9vLrJD"
      },
      "execution_count": 30,
      "outputs": []
    },
    {
      "cell_type": "code",
      "source": [
        "corpus = df_false_5s['tweet_text'].tolist()\n",
        "\n",
        "ngram_range = (1, 2)\n",
        "vectorizer = CountVectorizer(ngram_range=ngram_range)\n",
        "\n",
        "ngrams = vectorizer.fit_transform(corpus)\n",
        "\n",
        "feature_names = vectorizer.get_feature_names_out()\n",
        "\n",
        "ngram_counts = ngrams.sum(axis=0).A1\n",
        "\n",
        "sorted_indices = ngram_counts.argsort()[::-1]\n",
        "sorted_ngrams = [feature_names[i] for i in sorted_indices]\n",
        "sorted_counts = ngram_counts[sorted_indices]\n",
        "\n",
        "# Print the top 100 n-grams and their corresponding counts\n",
        "num_ngrams = min(100, len(sorted_ngrams))  # Limit to top 100 or total available n-grams if less than 100\n",
        "for i in range(num_ngrams):\n",
        "    print(f\"{sorted_ngrams[i]}: {sorted_counts[i]}\")"
      ],
      "metadata": {
        "colab": {
          "base_uri": "https://localhost:8080/"
        },
        "id": "24QihEoDLdkC",
        "outputId": "fe6e1393-ba68-419f-ccfe-a6aad33306fb"
      },
      "execution_count": 31,
      "outputs": [
        {
          "output_type": "stream",
          "name": "stdout",
          "text": [
            "to: 426\n",
            "the: 329\n",
            "is: 312\n",
            "you: 280\n",
            "it: 255\n",
            "that: 250\n",
            "of: 212\n",
            "this: 195\n",
            "me: 183\n",
            "and: 177\n",
            "my: 168\n",
            "bully: 156\n",
            "rt: 132\n",
            "not: 130\n",
            "for: 130\n",
            "co: 128\n",
            "in: 125\n",
            "on: 116\n",
            "http: 108\n",
            "but: 108\n",
            "be: 107\n",
            "are: 101\n",
            "about: 100\n",
            "just: 93\n",
            "have: 93\n",
            "http co: 91\n",
            "so: 89\n",
            "was: 89\n",
            "he: 83\n",
            "with: 82\n",
            "can: 81\n",
            "like: 80\n",
            "get: 75\n",
            "people: 73\n",
            "know: 69\n",
            "all: 69\n",
            "if: 68\n",
            "fucking: 68\n",
            "don: 68\n",
            "an: 66\n",
            "what: 64\n",
            "at: 59\n",
            "they: 59\n",
            "do: 55\n",
            "hate: 55\n",
            "your: 54\n",
            "how: 52\n",
            "up: 52\n",
            "when: 51\n",
            "twitter: 50\n",
            "or: 50\n",
            "would: 50\n",
            "by: 49\n",
            "https: 48\n",
            "bad: 46\n",
            "we: 46\n",
            "bullied: 46\n",
            "no: 43\n",
            "this is: 43\n",
            "some: 43\n",
            "as: 43\n",
            "why: 43\n",
            "being: 40\n",
            "out: 39\n",
            "to be: 38\n",
            "because: 38\n",
            "gamergate: 38\n",
            "am: 37\n",
            "from: 37\n",
            "ass: 37\n",
            "https co: 37\n",
            "now: 37\n",
            "she: 37\n",
            "one: 36\n",
            "been: 36\n",
            "ever: 36\n",
            "see: 36\n",
            "has: 35\n",
            "want: 35\n",
            "got: 34\n",
            "them: 34\n",
            "will: 33\n",
            "think: 33\n",
            "things: 32\n",
            "ve: 32\n",
            "oh: 32\n",
            "someone: 31\n",
            "still: 30\n",
            "there: 29\n",
            "who: 29\n",
            "never: 29\n",
            "make: 29\n",
            "going: 27\n",
            "coon: 27\n",
            "his: 27\n",
            "him: 27\n",
            "freebsdgirl: 26\n",
            "more: 26\n",
            "need: 26\n",
            "these: 26\n"
          ]
        }
      ]
    },
    {
      "cell_type": "markdown",
      "source": [
        "Doing the same for false predictions in class 1, \"not cyberbullying\"."
      ],
      "metadata": {
        "id": "4QbUi-_6NBBp"
      }
    },
    {
      "cell_type": "code",
      "source": [
        "df_false_1s = df_false[df_false['predictions'] == 0]"
      ],
      "metadata": {
        "id": "KU0NY6JpL5Ze"
      },
      "execution_count": 32,
      "outputs": []
    },
    {
      "cell_type": "code",
      "source": [
        "corpus = df_false_1s['tweet_text'].tolist()\n",
        "\n",
        "ngram_range = (1, 2)\n",
        "vectorizer = CountVectorizer(ngram_range=ngram_range)\n",
        "ngrams = vectorizer.fit_transform(corpus)\n",
        "\n",
        "feature_names = vectorizer.get_feature_names_out()\n",
        "\n",
        "ngram_counts = ngrams.sum(axis=0).A1\n",
        "\n",
        "sorted_indices = ngram_counts.argsort()[::-1]\n",
        "sorted_ngrams = [feature_names[i] for i in sorted_indices]\n",
        "sorted_counts = ngram_counts[sorted_indices]\n",
        "\n",
        "num_ngrams = min(100, len(sorted_ngrams))  # Limit to top 100 or total available n-grams if less than 100\n",
        "for i in range(num_ngrams):\n",
        "    print(f\"{sorted_ngrams[i]}: {sorted_counts[i]}\")"
      ],
      "metadata": {
        "colab": {
          "base_uri": "https://localhost:8080/"
        },
        "id": "u_wLWC-YYpe2",
        "outputId": "d04e6f31-574b-4531-babb-f83439a30b95"
      },
      "execution_count": 33,
      "outputs": [
        {
          "output_type": "stream",
          "name": "stdout",
          "text": [
            "the: 1183\n",
            "to: 1084\n",
            "co: 715\n",
            "mkr: 658\n",
            "you: 644\n",
            "it: 631\n",
            "http: 578\n",
            "that: 575\n",
            "http co: 552\n",
            "is: 540\n",
            "and: 537\n",
            "of: 537\n",
            "in: 473\n",
            "rt: 437\n",
            "this: 344\n",
            "for: 333\n",
            "are: 309\n",
            "on: 307\n",
            "my: 295\n",
            "not: 257\n",
            "have: 256\n",
            "be: 249\n",
            "with: 246\n",
            "they: 242\n",
            "can: 230\n",
            "so: 220\n",
            "just: 205\n",
            "no: 204\n",
            "but: 195\n",
            "at: 189\n",
            "https: 180\n",
            "what: 177\n",
            "we: 169\n",
            "your: 168\n",
            "like: 165\n",
            "was: 163\n",
            "get: 163\n",
            "as: 162\n",
            "https co: 162\n",
            "me: 152\n",
            "if: 148\n",
            "kat: 145\n",
            "all: 139\n",
            "about: 139\n",
            "from: 135\n",
            "will: 132\n",
            "out: 131\n",
            "up: 130\n",
            "do: 126\n",
            "more: 125\n",
            "when: 122\n",
            "people: 116\n",
            "think: 114\n",
            "one: 112\n",
            "amp: 109\n",
            "how: 108\n",
            "ve: 108\n",
            "now: 104\n",
            "don: 103\n",
            "go: 103\n",
            "lt: 99\n",
            "time: 99\n",
            "bullying: 98\n",
            "re: 98\n",
            "there: 98\n",
            "really: 96\n",
            "see: 95\n",
            "in the: 94\n",
            "oh: 93\n",
            "would: 92\n",
            "going: 92\n",
            "know: 91\n",
            "only: 90\n",
            "good: 89\n",
            "or: 87\n",
            "their: 86\n",
            "has: 85\n",
            "by: 85\n",
            "well: 82\n",
            "who: 81\n",
            "ll: 80\n",
            "he: 78\n",
            "too: 77\n",
            "them: 76\n",
            "love: 76\n",
            "her: 75\n",
            "an: 75\n",
            "am: 74\n",
            "going to: 73\n",
            "to be: 72\n",
            "need: 71\n",
            "back: 71\n",
            "make: 67\n",
            "shit: 67\n",
            "because: 66\n",
            "some: 65\n",
            "freebsdgirl: 64\n",
            "than: 64\n",
            "of the: 64\n",
            "why: 63\n"
          ]
        }
      ]
    },
    {
      "cell_type": "markdown",
      "source": [
        "Qualitatively exploring false positives in category five that contain variants of \"bully,\" which appeared as a common n-gram."
      ],
      "metadata": {
        "id": "1OEDwp2ENM8C"
      }
    },
    {
      "cell_type": "code",
      "source": [
        "pattern = r'bully|bullying|bullied'\n",
        "\n",
        "bully_df = df_false_5s[df_false_5s['tweet_text'].str.contains(pattern, case=False)]"
      ],
      "metadata": {
        "id": "mNw2og1YY7Kw",
        "colab": {
          "base_uri": "https://localhost:8080/"
        },
        "outputId": "574758d3-b634-4484-8717-218fa3cee396"
      },
      "execution_count": 40,
      "outputs": [
        {
          "output_type": "execute_result",
          "data": {
            "text/plain": [
              "0       The Congressmen's & Senator's daughters that I...\n",
              "1       @ThaArsonist leave that little person alone......\n",
              "5       Dude wtf are you talking about. Standing up to...\n",
              "8                                my gran just bullied me!\n",
              "14      “@MzLaina167: \"@SuccessSeaker: My daughter is ...\n",
              "                              ...                        \n",
              "2881    Billy Corgan, transphobic bully. http://t.co/d...\n",
              "2910    can @IMPACTWRESTLING have a one hour pre show ...\n",
              "2928    I hope you get bullied so much you die! - @shh...\n",
              "2929    @Imkidrauhl_ Haters gonna hate because they ar...\n",
              "6475    Ian, I hope you can now see how positive my at...\n",
              "Name: tweet_text, Length: 213, dtype: object"
            ]
          },
          "metadata": {},
          "execution_count": 40
        }
      ]
    },
    {
      "cell_type": "code",
      "source": [
        "pd.set_option('display.max_colwidth', None)\n",
        "bully_df['tweet_text']"
      ],
      "metadata": {
        "colab": {
          "base_uri": "https://localhost:8080/"
        },
        "id": "m4GD9jEjEw3T",
        "outputId": "b39f83d7-c942-4ff2-89a2-21ecef32b35d"
      },
      "execution_count": 41,
      "outputs": [
        {
          "output_type": "execute_result",
          "data": {
            "text/plain": [
              "0                                                                                                                                                The Congressmen's & Senator's daughters that I went 2 Shenandoah Valley Academy with told me about their father's being bullied & threatened\n",
              "1                                                                                                                                                                                             @ThaArsonist leave that little person alone....bully a different midget like @shybutpopular lol\n",
              "5                                                               Dude wtf are you talking about. Standing up to your bully at 16 takes fucking courage , busting your ass in school while everyone parties takes courage , being different takes courage. NOT FUCKING STREAMING YA TREE HUGGER\n",
              "8                                                                                                                                                                                                                                                                    my gran just bullied me!\n",
              "14                                                                                                                                                                                                               “@MzLaina167: \"@SuccessSeaker: My daughter is a bully\"..yup she is lol..”lol\n",
              "                                                                                                                                                ...                                                                                                                                          \n",
              "2881                                                                                                                                                                                                                                     Billy Corgan, transphobic bully. http://t.co/ddNhaKn\n",
              "2910                                                                                                                                                                                                can @IMPACTWRESTLING have a one hour pre show hosted by @ShowtimeEY and Bully Ray please?\n",
              "2928                                                                                                                                                                                                                                    I hope you get bullied so much you die! - @shhhhlerae\n",
              "2929                                                                                                                                                @Imkidrauhl_ Haters gonna hate because they are jealous! I get bullied & I know how it feels but please put a smile on your face?:) &lt;3\n",
              "6475    Ian, I hope you can now see how positive my attitude is. It’s a positive thing when no child or adult is bullied and we can all live peacefully. I think to introduce a #NOTOALLBULLYING LESSON would probably get literally 100% parental support. Try and have a positive attitude.\n",
              "Name: tweet_text, Length: 213, dtype: object"
            ]
          },
          "metadata": {},
          "execution_count": 41
        }
      ]
    },
    {
      "cell_type": "markdown",
      "source": [
        "Doing same for the \"gamergate\"."
      ],
      "metadata": {
        "id": "H27shCQkNaRr"
      }
    },
    {
      "cell_type": "code",
      "source": [
        "gamergate_df = df_false_5s[df_false_5s['tweet_text'].str.contains(\"gamergate\", case=False)]"
      ],
      "metadata": {
        "id": "GmlN8nL3G_BJ"
      },
      "execution_count": 42,
      "outputs": []
    },
    {
      "cell_type": "code",
      "source": [
        "pd.set_option('display.max_colwidth', None)\n",
        "gamergate_df['tweet_text']"
      ],
      "metadata": {
        "colab": {
          "base_uri": "https://localhost:8080/"
        },
        "id": "5YAVVHGxHiAw",
        "outputId": "2c198f47-4c39-4c54-fc70-f70053d27bc3"
      },
      "execution_count": 43,
      "outputs": [
        {
          "output_type": "execute_result",
          "data": {
            "text/plain": [
              "282     reformed white male kotaku commenter bionicle building vaping virgin atheist antisjw&amp;feminazi libertarian naruto watching gamergater here\n",
              "360      RT @Eliah_R: \"Lets create a nicer society by acting like absolute cunts to everyone\" - Social Justice Warrior Logic #GamerGate #WomenAgains…\n",
              "387              RT @brofreq: I was fortunate to catch this right when it was posted, 4th reply in. Get rekt Anita. #GamerGate http://t.co/PCtrrmpV2y\n",
              "402      RT @kelseytheodore2: @freebsdgirl People like you are what give feminists a bad name. #GamerGate is wrong, but the best defense is NOT alwa…\n",
              "434            RT @jjordon96: Pretty sure that #gamergate episode of law and order is basically the new Reefer Madness. Holy actual fuck this exists.\n",
              "508                @Grofaz69 This may be the best representation of @gamergate / feminazi's I have ever seen. Enjoy the truth. http://t.co/pHvO9I9yNr\n",
              "545       .@BlackOpal80 Like, if #GamerGate really just hated women, why bother with GG? Need NO permission to hate. They could just hate/play games.\n",
              "817                            @luckykaa It is our individual listing numbers on a Gamergate block list the SJW feminists created. Worn with pride...\n",
              "896            RT @penguinman2: I am of the firm belief that this image should be sent to all new people supporting #gamergate http://t.co/XXvqj0dd6y\n",
              "913         Now do you see how the SJW-run media is biased against #GamerGate? Anti-GG are the real harassers SJWs are th... — http://t.co/9WGKg8iXgF\n",
              "925                   I support #GamerGate because I'm a Gamer and i don't want a bunch of corrupt Media Feminazi's ruining video games for everyone.\n",
              "994             RT @AllstateJackie: Antis will stop treating blocks as trophies as soon as feminists stop treating blocks as arguments. 🐸☕ #GamerGate\n",
              "1102                                                                 ... when he hears \"blue haired bitch\", \"gamergate\", and \"freebsdgirl\". Oh, dear.\n",
              "1294      RT @BloodmouthView: #TweetLikeAFeminist #GamerGate an outlandish satirical piece of writing that takes a hearty stab at new Feminism http:…\n",
              "1320       RT @SomeKindaBoogin: .@Sushilulutwitch good info, thanks. are we all seeing that MSM is about storytelling, not fact reporting? #gamergate\n",
              "1539                                                             @scaryjen @Kirtaner @DigiRanger1994 we aren't gamergate. We don't do shit like this.\n",
              "1639     RT @ChrisWarcraft: And let me be clear - OAPI may have been catalyzed into existence by #Gamergate, but it's addressing a problem affecting…\n",
              "1733                RT @srhbutts: CEO of sony europe vehemently, unequivocally condemns #gamergate as misogynistic harassment. http://t.co/0M07MuT5AY\n",
              "1782     RT @iglvzx: *GGers joke about target's children.* Mark Kern: \"Freedom of expression. Will you join us?\" [Repeat] #StopGamerGate http://t.co…\n",
              "1831                                                        Stop sending me anonymous valentines things. I'm pretty sure they are all from GamerGate.\n",
              "1924       Watching GamerGate mock women that are concerned about appearing at GDC given the threats they've been inundated w/over the past 6 months.\n",
              "1938                            We mostly hear about harassment in the context of GamerGate, but that's a very narrow focus and not the real problem.\n",
              "1998                                                      Aw, GamerGate harassment squad. Did I say something to make you mad? http://t.co/oTsgWCnC75\n",
              "2045             Most tellingly of all, hashtag + target mentions are up. @spacekatgal has received 474 mentions in the past 12 hours w/gamergate ht.\n",
              "2049       Every time I meet with a journalist that is about to post something that is going to make GamerGate angry, I suggest using #ggautoblocker.\n",
              "2066                                                        It sure is weird how I only ever see mean things being attached to the gamergate hashtag.\n",
              "2095                 Bonus points in this thread. Unreal. Harassment from GamerGate did make abuse more of a topic, I suppose. http://t.co/98FNXeb9nW\n",
              "2190          @sschinke it's entertaining, but well... let's just say my entire next week is quickly filling with meetings. no time for gamergate. :)\n",
              "2224                        RT @Keanna_Reeves: @freebsdgirl It sure is weird how I only ever see true things being attached to the gamergate hashtag.\n",
              "2236                @SuperSpacedad most of tech doesn't really know about gamergate and doesn't care. In a bigger sense, gamergate has no importance.\n",
              "2300                   There is currently a vocal male on twitter that claims to be all about anti-harassment. He has defended GamerGate in the past.\n",
              "2302     RT @a_man_in_black: This article is shit but lol @GRIMACHU losing an argument with @randi_ebooks made Buzzfeed. #gamergate http://t.co/icWb…\n",
              "2321                     I'm bringing it up for one reason. GamerGate has brought harassment into the limelight, but rest assured, it's always there.\n",
              "2504                        In short, this is the most hilarious GamerGate BSD fail I have ever seen. #FreeBSD #OpenBSD #PCBSD http://t.co/poaOZ93QEf\n",
              "2657                               @coil780 my review got downvotes because GamerGate dogpiled. But @wadhwa knows this. Heck, he's friends with Nero.\n",
              "2685                          Sorry, I don't believe in GamerGate's version of justice. Mass reporting isn't \"dealing with\" anything. @PendragonTarot\n",
              "2749                            Shoutout to back when GamerGate thought forking #ggautoblocker's repo excessively would make me renounce open source.\n",
              "2751     RT @kelseytheodore2: @freebsdgirl People like you are what give feminists a bad name. #GamerGate is wrong, but the best defense is NOT alwa…\n",
              "2930                                                                 @InfiniteClock most abuse comes from gamergate accounts that are 30-90 days old.\n",
              "Name: tweet_text, dtype: object"
            ]
          },
          "metadata": {},
          "execution_count": 43
        }
      ]
    },
    {
      "cell_type": "markdown",
      "source": [
        "Doing the same for \"Christian,\" which annectodally appeared in a bad prediction."
      ],
      "metadata": {
        "id": "Wv_SYdlBNh_8"
      }
    },
    {
      "cell_type": "code",
      "source": [
        "christian_df = df_false[df_false['tweet_text'].str.contains(\"Christian\", case=False)]"
      ],
      "metadata": {
        "id": "C9EaicaDHjo0"
      },
      "execution_count": 44,
      "outputs": []
    },
    {
      "cell_type": "code",
      "source": [
        "pd.set_option('display.max_colwidth', None)\n",
        "christian_df['tweet_text']"
      ],
      "metadata": {
        "colab": {
          "base_uri": "https://localhost:8080/"
        },
        "id": "lYpRxE40I1xP",
        "outputId": "976e9314-bf24-46bb-9777-6570383b05a8"
      },
      "execution_count": 45,
      "outputs": [
        {
          "output_type": "execute_result",
          "data": {
            "text/plain": [
              "57            - Winter - snowboarding - blonde hair - red hair - Christianity - doing well in school - fighting 1v1 - not sharing women - open spaces - not smelling bad - Being handsome/beautiful - lacrosse - long hair - not getting offended over racist jokes - being racist - mannerbunds\n",
              "169         @sairasameeraro So God the Father only created pple who are NOT white? Then where did we come from? Racism is a sin. You're obviously not Christian. Why do U think that God the Son) Christ was bronze colored? A mixture of all of mankind. Communists teach that there is NO GOD!\n",
              "262                                                                                                                                                  Fuck all dumb niggers and muslims too. Plus allah and his goat, Dear Lord, please honor some Christian to blow obama`s head off. Praise Him\n",
              "1137    reasons i hate the guys in my grade: they joke about the disabled, rape, other races, women, gay people, literally everything you shouldn’t joke about- i mean i like my school and all but southern christian conservatives immature high school guys are just a LITTLE TOO MUCH for me\n",
              "1198                                                                                                                                                RT @uberfeminist: #TwitterFeminism can't convince three teen women to take up computer science, meanwhile ISIS is soooo Christian Grey righ…\n",
              "1203                                                                                                                                                RT @AlejandroDaGr8: RT @drumbeats4peace: Woman in Atlanta who was killed by police yesterday is #AlexiaChristian. She was indeed handcuffed…\n",
              "1457                                                                                                                                                RT @TRobinsonNewEra: http://t.co/PH5U0PMm4w In1987,Christians in Iraq numbered 1.4 M, Since then,country’s population doubled but Christian…\n",
              "1563                                                                                                                                                                                                   @BDSSupporter @AbbsWinston @Contrarian82 @AbbyMartin Liar. There were no Christian women.\n",
              "1636                                                                                                                                                                                 @pNibbler @AlterNet @MaxBlumenthal They support the death penalty for murder, not for leaving Christianity.\n",
              "1839                                                                                                                                                                                               @AAlwuhaib1977 I know hundreds of Christians, but not a single one that fits the discription.\n",
              "1882                                                                                                                                                RT @shariaunveiled: Obama Halts Israeli Transfer of Arms to Christians in Nigeria to Defend Themselves From Boko Haram Muslim Terrorists ht…\n",
              "1888                                                                                                                                                      Christian Bully?: A local St. Mary's County woman recently confronted a grieving father about an unsubstantiate... http://t.co/7sYw98q\n",
              "1937                                                                                                                                                RT @PamelaGeller: White House Refuses to Call 21 BEHEADING Victims Christians while Egypt launches airstrikes on Islamic State t... http://…\n",
              "2333                                                                                                                                                 @Lithobolos @PoliticalAnt @ZaibatsuNews I'm against any Jew or Christian that wants to live by Old Testament law as opposed to secular law.\n",
              "2340                                                                                                                                                 #Christian Right Calls @AlFranken #Liberal Bully 4 Exposing Their Big Lie http://t.co/KboP2xX via @politicususa #politics #goplies #bigotry\n",
              "2341                                                                                                                                                              @FreeMuslim222 After murdering Shia, Yezidi, Kurd and Christian children, Daesh try to use children for propaganda. Sickening.\n",
              "2417                                                                                                                                                   @coralivesey @PTISalarKhan @georgegalloway So Muslim anti Christianity is fine by you, but Jewish anti Christianity should be an offense.\n",
              "2435                                                                                                                                                   @AAlwuhaib1977 Ahh, this is a Christian conspiracy book involving so few real Christians that their actions are unnoticed and irrelevant.\n",
              "2513                                                                                                                                                    RT @jstines3: Where is the LIBERAL outrage at the Christians being slaughtered in IRAQ and Syria? #PJNET #TCOT #CCOT http://t.co/1uwPea…\n",
              "2682                                                                                                                                                             @dankmtl @PeaceNotHate_ Wrong again asshole. Just look at the Christian vs Muslim population demographic for the last 30 years.\n",
              "2683                                                                                                                                                                                        @Pass_The_Mike_ Which is a problem today. You cant say you are a Christian but enjoy what God hates.\n",
              "2721                                                                                                                                                  @Lithobolos @PoliticalAnt @ZaibatsuNews Christians and Yezidis in Iraq thought their Muslim neighbors were fine until ISIS came along.....\n",
              "2839                                                                                                                                                                                                     @asem_1994 And 100% of Jews and Christians were exterminated in Saudi and other places.\n",
              "2855                                                                                                                                                  @sajid_fairooz @IsraeliRegime Furthermore, the hatred against Jews, Christians, and any non believers is engraved in the Quran and Hadith.\n",
              "2898                                                                                                                                                                                                   @dankmtl @PeaceNotHate_ In 1948 Christians were 18% of the Palestinians. Now they are 2%.\n",
              "4034                                                                                                                                                                                                   @Price_21 wtf! Nothing to do with me! Nadim and christian, I was to busy bullying jake :P\n",
              "5762                                                                                                                                                                                      Christian Right Calls Al Franken a Liberal Bully for Exposing Their Big Lie http://tinyurl.com/3zvgpox\n",
              "6344      Almost a decade ago now, I would watch your guys’ videos every morning before school. You guys were a pivotal voice for me through middle & high school & college. As a young Christian woman in ministry now, you’re right: my heart is sad. But I will always love you both... (1/?)\n",
              "6396                                                    I just had flashbacks to when a Jamaican girl in my secondary school said it during DT and our Jamaican DT teacher lost her fucking MIND I truly I thought I was about to watch this Christian woman beat my friend right in front of me\n",
              "6417          Tell me one thing Why u dont Say All Lives matter Hindus Lives matter Christians Lives matter African lives matter Jews Lives matter Chinese lives matter Lives are lives who ever it will Dont be biased U need to put in machine who deradicalize you #Radical_Islamic_Terrorism\n",
              "6437                                                                                                                                                                    @asem_1994 And I know that Umar imposed the code of Umar, making Jews and Christians third class citizens for centuries.\n",
              "6446                       Radical Leftists support all women EXCEPT: Conservative women Pro life women Christian women White women Women who aren’t feminists Women who don’t wear pussy hats Women who refuse to kill unborn babies Women who love their husband Women who enjoy being a woman\n",
              "6471                      But according to the school \" shes a good Christian woman and was just trying to guide you to the right path\" this is the same school where a teacher was watching porn on the smart board and then again on his computer with us in the classroom and still has a job\n",
              "6472         #WatermelonSugar I LOVE IT!!!! I think I love it more than #LightsUp !!!! HARRY WAS FUCKING RIGHT!! #Kiwi WALKED so #WatermelonSugar could FUCKING RUNNN!!! AND RUN IT FUCKING IS WHAT THE HELL I AM A CHRISTIAN WOMAN HARRY I DO NOT CURSE IN PUBLIC WHATSOEVER BUT THIS DAMN SONG\n",
              "6482     Even men who claimed to be feminist are only pretending. Since d dawn of man, and till d end of time, a male and a female can never maintain equal right. Don't forget d Holy Book calls female folks a help mete (mate). Any Christian woman who declears herself a feminist is dinner\n",
              "Name: tweet_text, dtype: object"
            ]
          },
          "metadata": {},
          "execution_count": 45
        }
      ]
    },
    {
      "cell_type": "code",
      "source": [],
      "metadata": {
        "id": "Fy2uX6dxI4II"
      },
      "execution_count": null,
      "outputs": []
    }
  ]
}